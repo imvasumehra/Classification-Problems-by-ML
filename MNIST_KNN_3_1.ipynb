{
  "nbformat": 4,
  "nbformat_minor": 0,
  "metadata": {
    "colab": {
      "name": "MNIST_KNN.ipynb",
      "provenance": [],
      "collapsed_sections": []
    },
    "kernelspec": {
      "name": "python3",
      "display_name": "Python 3"
    }
  },
  "cells": [
    {
      "cell_type": "markdown",
      "metadata": {
        "id": "Vt9qk9KW5O9h",
        "colab_type": "text"
      },
      "source": [
        "**MNIST IMAGE CLASSIFICATION USING K-NEAREST NEIGHBORS**</br>\n",
        "Default Settings v/s Tuned HyperParameters"
      ]
    },
    {
      "cell_type": "markdown",
      "metadata": {
        "id": "opRWD6Xs5XpS",
        "colab_type": "text"
      },
      "source": [
        "Workflow </br>\n",
        "Import Libraries > Load Data > Fit and Train Data > Predict the values > Measure Perfomance"
      ]
    },
    {
      "cell_type": "markdown",
      "metadata": {
        "id": "9vczqqTQ5KRA",
        "colab_type": "text"
      },
      "source": [
        "1. Import Libraries"
      ]
    },
    {
      "cell_type": "code",
      "metadata": {
        "id": "AUvgTvoLsnQo",
        "colab_type": "code",
        "colab": {}
      },
      "source": [
        "import numpy as np\n",
        "import pandas as pd\n",
        "import matplotlib as mpl\n",
        "import matplotlib.pyplot as plt"
      ],
      "execution_count": 1,
      "outputs": []
    },
    {
      "cell_type": "markdown",
      "metadata": {
        "id": "y1cL_tS15DgK",
        "colab_type": "text"
      },
      "source": [
        "2. Import the MNIST dataset"
      ]
    },
    {
      "cell_type": "code",
      "metadata": {
        "id": "MQTYIkQYs5py",
        "colab_type": "code",
        "colab": {
          "base_uri": "https://localhost:8080/",
          "height": 34
        },
        "outputId": "9ebbf591-2a39-4f80-b1d7-0811630ef71c"
      },
      "source": [
        "from sklearn.datasets import fetch_openml\n",
        "mnist = fetch_openml('mnist_784', version=1)\n",
        "mnist.keys()"
      ],
      "execution_count": 2,
      "outputs": [
        {
          "output_type": "execute_result",
          "data": {
            "text/plain": [
              "dict_keys(['data', 'target', 'frame', 'feature_names', 'target_names', 'DESCR', 'details', 'categories', 'url'])"
            ]
          },
          "metadata": {
            "tags": []
          },
          "execution_count": 2
        }
      ]
    },
    {
      "cell_type": "code",
      "metadata": {
        "id": "e4p3xyY7s9gl",
        "colab_type": "code",
        "colab": {}
      },
      "source": [
        "X, Y = mnist['data'], mnist['target']\n",
        "Y = Y.astype(np.uint8)\n",
        "X_train, X_test, y_train, y_test = X[:60000], X[60000:], Y[:60000], Y[60000:]"
      ],
      "execution_count": 3,
      "outputs": []
    },
    {
      "cell_type": "markdown",
      "metadata": {
        "id": "ks0opCmF6E33",
        "colab_type": "text"
      },
      "source": [
        "A) Train model on default parameters"
      ]
    },
    {
      "cell_type": "markdown",
      "metadata": {
        "id": "RyBTXHMk6WmF",
        "colab_type": "text"
      },
      "source": [
        "3. Train on default parameters"
      ]
    },
    {
      "cell_type": "code",
      "metadata": {
        "id": "ePVQHrmZtAwL",
        "colab_type": "code",
        "colab": {
          "base_uri": "https://localhost:8080/",
          "height": 68
        },
        "outputId": "435867d2-105f-45d1-df3e-3b71e29fb92e"
      },
      "source": [
        "from sklearn.neighbors import KNeighborsClassifier\n",
        "\n",
        "knn_clf = KNeighborsClassifier()\n",
        "knn_clf.fit(X_train, y_train)"
      ],
      "execution_count": 4,
      "outputs": [
        {
          "output_type": "execute_result",
          "data": {
            "text/plain": [
              "KNeighborsClassifier(algorithm='auto', leaf_size=30, metric='minkowski',\n",
              "                     metric_params=None, n_jobs=None, n_neighbors=5, p=2,\n",
              "                     weights='uniform')"
            ]
          },
          "metadata": {
            "tags": []
          },
          "execution_count": 4
        }
      ]
    },
    {
      "cell_type": "markdown",
      "metadata": {
        "id": "_IgiV5av6b1l",
        "colab_type": "text"
      },
      "source": [
        "4. Predict the values of Test Set"
      ]
    },
    {
      "cell_type": "code",
      "metadata": {
        "id": "yXlj_01otRCD",
        "colab_type": "code",
        "colab": {}
      },
      "source": [
        "y_knn_pred = knn_clf.predict(X_test)"
      ],
      "execution_count": 5,
      "outputs": []
    },
    {
      "cell_type": "markdown",
      "metadata": {
        "id": "6znagNBf6hD7",
        "colab_type": "text"
      },
      "source": [
        "5. Calculate Accuracy"
      ]
    },
    {
      "cell_type": "code",
      "metadata": {
        "id": "lX00ep0ltjnV",
        "colab_type": "code",
        "colab": {
          "base_uri": "https://localhost:8080/",
          "height": 34
        },
        "outputId": "2a6641ea-328f-4d76-db0b-92ca6436627f"
      },
      "source": [
        "from sklearn.metrics import accuracy_score\n",
        "accuracy_score(y_test, y_knn_pred)"
      ],
      "execution_count": 6,
      "outputs": [
        {
          "output_type": "execute_result",
          "data": {
            "text/plain": [
              "0.9688"
            ]
          },
          "metadata": {
            "tags": []
          },
          "execution_count": 6
        }
      ]
    },
    {
      "cell_type": "markdown",
      "metadata": {
        "id": "DjqyvB1s6lXz",
        "colab_type": "text"
      },
      "source": [
        "B) Train model on different parameters"
      ]
    },
    {
      "cell_type": "markdown",
      "metadata": {
        "id": "a_h2VF2B6pF5",
        "colab_type": "text"
      },
      "source": [
        "3. Train classifier on</br>\n",
        "   weights = \"distance\"</br>\n",
        "   n_neighbours = 4"
      ]
    },
    {
      "cell_type": "code",
      "metadata": {
        "id": "hKnenSfMyvy2",
        "colab_type": "code",
        "colab": {
          "base_uri": "https://localhost:8080/",
          "height": 68
        },
        "outputId": "96a2197e-da55-4e1d-b57f-8c8b941c79d6"
      },
      "source": [
        "from sklearn.neighbors import KNeighborsClassifier\n",
        "\n",
        "knn_clf_4 = KNeighborsClassifier(weights = 'distance', n_neighbors = 4)\n",
        "knn_clf_4.fit(X_train, y_train)"
      ],
      "execution_count": 4,
      "outputs": [
        {
          "output_type": "execute_result",
          "data": {
            "text/plain": [
              "KNeighborsClassifier(algorithm='auto', leaf_size=30, metric='minkowski',\n",
              "                     metric_params=None, n_jobs=None, n_neighbors=4, p=2,\n",
              "                     weights='distance')"
            ]
          },
          "metadata": {
            "tags": []
          },
          "execution_count": 4
        }
      ]
    },
    {
      "cell_type": "markdown",
      "metadata": {
        "id": "aBXg-g867CZQ",
        "colab_type": "text"
      },
      "source": [
        "4. Predict the values of Test Set"
      ]
    },
    {
      "cell_type": "code",
      "metadata": {
        "id": "Ujm-J635zEKO",
        "colab_type": "code",
        "colab": {}
      },
      "source": [
        "y_knn_pred_4 = knn_clf_4.predict(X_test)"
      ],
      "execution_count": 5,
      "outputs": []
    },
    {
      "cell_type": "markdown",
      "metadata": {
        "id": "bizIt6cV7G3q",
        "colab_type": "text"
      },
      "source": [
        "5. Calculate Accuracy"
      ]
    },
    {
      "cell_type": "code",
      "metadata": {
        "id": "FUOCe66RzS-C",
        "colab_type": "code",
        "colab": {
          "base_uri": "https://localhost:8080/",
          "height": 34
        },
        "outputId": "c9fd6031-960d-4e64-afa4-019171cd3225"
      },
      "source": [
        "from sklearn.metrics import accuracy_score\n",
        "accuracy_score(y_test, y_knn_pred_4)"
      ],
      "execution_count": 6,
      "outputs": [
        {
          "output_type": "execute_result",
          "data": {
            "text/plain": [
              "0.9714"
            ]
          },
          "metadata": {
            "tags": []
          },
          "execution_count": 6
        }
      ]
    }
  ]
}